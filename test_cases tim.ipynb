{
 "cells": [
  {
   "cell_type": "code",
   "execution_count": 1,
   "metadata": {},
   "outputs": [],
   "source": [
    "%run ./bonus_assignment.ipynb\n",
    "\n",
    "@register_cell_magic\n",
    "def fakedata_testing(line, cell):\n",
    "    # wrapping everything inside a giant try-except block\n",
    "    try:\n",
    "        fakedata(line,cell)\n",
    "        print(\"No exceptions encountered while generating DataFrames 🐼🎉🎈🎊\")\n",
    "    except Exception as e:\n",
    "        template = \"🚫🚫🚫🚫🚫 An exception of type {0} occurred. Arguments:\\n{1!r}\"\n",
    "        message = template.format(type(e).__name__, e.args)\n",
    "        print(message)\n",
    "\n",
    "@register_line_magic\n",
    "def test(line):\n",
    "    try:\n",
    "        exec(line)\n",
    "        print(\"PASSED\")\n",
    "    except Exception as e:\n",
    "        print(\"FAILED {}\".format(e))"
   ]
  },
  {
   "cell_type": "markdown",
   "metadata": {},
   "source": [
    "## How to test\n",
    "* Use `%%fakedata_testing` instead of `%%fakedata` for cell magic.\n",
    "* Use `%test` line magic to do simple assertion tests\n",
    "* Everytime you make changes to `bonus_assignment.ipynb`, you must save that file and \"Restart-Run all\" in this notebook.\n",
    "* Exceptions are suppressed so that all tests are run\n",
    "\n",
    "Sample for defining the domain specific language:\n",
    "```\n",
    "%%fakedata_testing\n",
    "persons\n",
    "-------\n",
    "first_name\n",
    "last_name*\n",
    "phone_number\n",
    "random_number(5) as customer_number [1]*\n",
    "\n",
    "purchases\n",
    "---------\n",
    "isbn10\n",
    "credit_card_full\n",
    "random_number(3) as price\n",
    "random_number(5) as customer_number [1]\n",
    "```\n",
    "\n",
    "Sample for testing the generated DataFrame\n",
    "```\n",
    "%test assert len(persons) == 99,'\"persons\" should have 99 rows'\n",
    "```"
   ]
  },
  {
   "cell_type": "code",
   "execution_count": 12,
   "metadata": {},
   "outputs": [
    {
     "name": "stdout",
     "output_type": "stream",
     "text": [
      "No exceptions encountered while generating DataFrames 🐼🎉🎈🎊\n"
     ]
    }
   ],
   "source": [
    "%%fakedata_testing\n",
    "persons\n",
    "-------\n",
    "first_name\n",
    "last_name*\n",
    "phone_number\n",
    "random_number(5) as customer_number [1]*\n",
    "\n",
    "purchases\n",
    "---------\n",
    "isbn10\n",
    "credit_card_full\n",
    "random_number(3) as price\n",
    "random_number(5) as customer_number [1]"
   ]
  },
  {
   "cell_type": "code",
   "execution_count": 3,
   "metadata": {},
   "outputs": [
    {
     "name": "stdout",
     "output_type": "stream",
     "text": [
      "PASSED\n",
      "PASSED\n",
      "PASSED\n",
      "PASSED\n",
      "PASSED\n",
      "PASSED\n",
      "PASSED\n"
     ]
    }
   ],
   "source": [
    "%test assert len(persons) == 99,'\"persons\" should have 99 rows'\n",
    "%test assert len(purchases) == 99,'\"purchases\" should have 99 rows'\n",
    "%test assert len(persons.last_name.value_counts()) == 99,'\"persons.last_name\" should have 99 unique values'\n",
    "%test assert len(persons.customer_number.value_counts()) == 99,'\"persons.customer_number\" should have 99 unique values'\n",
    "%test assert len(purchases.customer_number.value_counts()) < 99,'\"purchases.customer_numbers\" should have less than 99 unique values'\n",
    "%test assert purchases.customer_number.isin(persons.customer_number).all(), '\"purchases.customer_number\" should be a subset of \"persons.customer_number\"'\n",
    "%test assert (purchases.columns == ['isbn10', 'credit_card_full', 'price', 'customer_number']).all(), '''\"purchase.columns\" should be ['isbn10', 'credit_card_full', 'price', 'customer_number']'''"
   ]
  },
  {
   "cell_type": "code",
   "execution_count": 4,
   "metadata": {},
   "outputs": [
    {
     "name": "stdout",
     "output_type": "stream",
     "text": [
      "No exceptions encountered while generating DataFrames 🐼🎉🎈🎊\n"
     ]
    }
   ],
   "source": [
    "%%fakedata_testing\n",
    "companies\n",
    "-------\n",
    "company*\n",
    "catch_phrase\n",
    "country\n",
    "date_time_this_century as established"
   ]
  },
  {
   "cell_type": "code",
   "execution_count": 5,
   "metadata": {},
   "outputs": [
    {
     "name": "stdout",
     "output_type": "stream",
     "text": [
      "PASSED\n",
      "PASSED\n",
      "PASSED\n"
     ]
    }
   ],
   "source": [
    "%test assert len(companies) == 99,'\"companies\" should have 99 rows'\n",
    "%test assert len(companies.company.value_counts()) == 99,'\"companies.company\" should have 99 unique values'\n",
    "%test assert (companies.columns == ['company', 'catch_phrase', 'country', 'established']).all(), '''\"purchase.columns\" should be ['company', 'catch_phrase', 'country', 'established']'''"
   ]
  },
  {
   "cell_type": "markdown",
   "metadata": {},
   "source": [
    "---\n",
    "\n",
    "I added `df_size` support\n",
    "\n",
    "```\n",
    "function_to_call  ::= <wordcharacters>\n",
    "parameters        ::= \"\" | \"(\" ( wordcharacters | number ) \")\"\n",
    "as_name           ::= \"\" | \"as\" <whitespace> <wordcharacters>\n",
    "column_name       ::= as_name | function_to_call\n",
    "reference         ::= \"\" |  \"[\" number \"]\"\n",
    "unique_mark       ::= \"\" | \"*\"\n",
    "column_definition ::= <function_to_call> <parameters> <whitespace> \\\n",
    "                      <as_name> <whitespace> <reference> <unique_mark>\n",
    "df_size           ::= \"\" |  \"[\" integer \"]\"\n",
    "df_sep            ::= \"--\" (\"-\"*)\n",
    "df_definition     ::= <wordcharacters> <df_size> <newline> <df_sep> <newline> \\\n",
    "                      (<column_definition>*) <newline> <newline>\n",
    "language_spec     ::= <def_definition>*\n",
    "```\n",
    "---\n",
    "Feel free to play around with these as well:\n",
    "```\n",
    "DEFAULT_DF_SIZE = 99     # default number of rows per DataFrame\n",
    "ORPHANED_UNIQUES = 0.2   # % of uniques references which won't be used in non-unique references\n",
    "REPEAT_WEIGHTS = 1000    # Weight of chance for repeated values.  1 would be equal weights\n",
    "```"
   ]
  },
  {
   "cell_type": "code",
   "execution_count": 6,
   "metadata": {},
   "outputs": [],
   "source": [
    "DEFAULT_DF_SIZE = 20     # default number of rows per DataFrame\n",
    "ORPHANED_UNIQUES = 0.1   # % of uniques references which won't be used in non-unique references\n",
    "REPEAT_WEIGHTS = 1000    # Weight of chance for repeated values.  1 would be equal weights"
   ]
  },
  {
   "cell_type": "code",
   "execution_count": 7,
   "metadata": {},
   "outputs": [
    {
     "name": "stdout",
     "output_type": "stream",
     "text": [
      "No exceptions encountered while generating DataFrames 🐼🎉🎈🎊\n"
     ]
    }
   ],
   "source": [
    "%%fakedata_testing\n",
    "apersons\n",
    "-------\n",
    "first_name\n",
    "last_name*\n",
    "phone_number\n",
    "random_number(5) as customer_number [1]*\n",
    "\n",
    "apurchases [500]\n",
    "---------\n",
    "isbn10\n",
    "credit_card_full\n",
    "random_number(3) as price\n",
    "random_number(5) as customer_number [1]"
   ]
  },
  {
   "cell_type": "code",
   "execution_count": 8,
   "metadata": {},
   "outputs": [
    {
     "name": "stdout",
     "output_type": "stream",
     "text": [
      "PASSED\n",
      "PASSED\n",
      "PASSED\n",
      "PASSED\n",
      "PASSED\n",
      "PASSED\n"
     ]
    }
   ],
   "source": [
    "%test assert len(apersons) == DEFAULT_DF_SIZE,'\"apersons\" should have {} rows'.format(DEFAULT_DF_SIZE)\n",
    "%test assert len(apurchases) == 500,'\"apurchases\" should have 500 rows'\n",
    "%test assert len(apersons.last_name.value_counts()) == DEFAULT_DF_SIZE,'\"apersons.last_name\" should have {} unique values'.format(DEFAULT_DF_SIZE)\n",
    "%test assert len(apersons.customer_number.value_counts()) == DEFAULT_DF_SIZE,'\"apersons.customer_number\" should have {} unique values'.format(DEFAULT_DF_SIZE)\n",
    "%test assert apurchases.customer_number.isin(apersons.customer_number).all(), '\"apurchases.customer_number\" should be a subset of \"persons.customer_number\"'\n",
    "%test assert (apurchases.columns == ['isbn10', 'credit_card_full', 'price', 'customer_number']).all(), '''\"apurchase.columns\" should be ['isbn10', 'credit_card_full', 'price', 'customer_number']'''"
   ]
  },
  {
   "cell_type": "code",
   "execution_count": 9,
   "metadata": {},
   "outputs": [
    {
     "data": {
      "text/plain": [
       "33577    76\n",
       "58858    68\n",
       "94729    65\n",
       "35835    53\n",
       "42591    49\n",
       "15647    27\n",
       "48655    26\n",
       "40065    26\n",
       "30468    22\n",
       "46933    21\n",
       "10964    20\n",
       "80811    15\n",
       "81752    15\n",
       "4267      5\n",
       "8938      4\n",
       "15390     4\n",
       "39274     3\n",
       "10758     1\n",
       "Name: customer_number, dtype: int64"
      ]
     },
     "execution_count": 9,
     "metadata": {},
     "output_type": "execute_result"
    }
   ],
   "source": [
    "# distribution of customer_number for 'apurchases' DataFrame\n",
    "# tweak the 3 options above and rerun the cells to see how they affect the results\n",
    "apurchases.customer_number.value_counts()"
   ]
  },
  {
   "cell_type": "code",
   "execution_count": 10,
   "metadata": {},
   "outputs": [
    {
     "name": "stdout",
     "output_type": "stream",
     "text": [
      "🚫🚫🚫🚫🚫 An exception of type AssertionError occurred. Arguments:\n",
      "('Insufficient data (1000 available) from provider to generate 1001 \"last_name\".',)\n"
     ]
    }
   ],
   "source": [
    "%%fakedata_testing\n",
    "sad_persons [1001]\n",
    "-------\n",
    "last_name*"
   ]
  },
  {
   "cell_type": "code",
   "execution_count": null,
   "metadata": {},
   "outputs": [],
   "source": []
  }
 ],
 "metadata": {
  "kernelspec": {
   "display_name": "Python 3",
   "language": "python",
   "name": "python3"
  },
  "language_info": {
   "codemirror_mode": {
    "name": "ipython",
    "version": 3
   },
   "file_extension": ".py",
   "mimetype": "text/x-python",
   "name": "python",
   "nbconvert_exporter": "python",
   "pygments_lexer": "ipython3",
   "version": "3.8.5"
  }
 },
 "nbformat": 4,
 "nbformat_minor": 4
}
