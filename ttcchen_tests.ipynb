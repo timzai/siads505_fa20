{
 "cells": [
  {
   "cell_type": "code",
   "execution_count": 1,
   "metadata": {},
   "outputs": [],
   "source": [
    "%run ./bonus_assignment.ipynb\n",
    "\n",
    "@register_cell_magic\n",
    "def fakedata_testing(line, cell):\n",
    "    # wrapping everything inside a giant try-except block\n",
    "    try:\n",
    "        fakedata(line,cell)\n",
    "        print(\"No exceptions encountered while generating DataFrames 🐼🎉🎈🎊\")\n",
    "    except Exception as e:\n",
    "        template = \"🚫🚫🚫🚫🚫 An exception of type {0} occurred. Arguments:\\n{1!r}\"\n",
    "        message = template.format(type(e).__name__, e.args)\n",
    "        print(message)\n",
    "\n",
    "@register_line_magic\n",
    "def test(line):\n",
    "    try:\n",
    "        exec(line)\n",
    "        print(\"PASSED\")\n",
    "    except Exception as e:\n",
    "        print(\"FAILED {}\".format(e))"
   ]
  },
  {
   "cell_type": "code",
   "execution_count": 2,
   "metadata": {},
   "outputs": [
    {
     "name": "stdout",
     "output_type": "stream",
     "text": [
      "No exceptions encountered while generating DataFrames 🐼🎉🎈🎊\n"
     ]
    }
   ],
   "source": [
    "%%fakedata_testing\n",
    "persons\n",
    "-------\n",
    "first_name\n",
    "last_name*\n",
    "phone_number\n",
    "random_number(5) as customer_number [1]*\n",
    "\n",
    "purchases\n",
    "---------\n",
    "isbn10\n",
    "credit_card_full\n",
    "random_number(3) as price\n",
    "random_number(5) as customer_number [1]"
   ]
  },
  {
   "cell_type": "code",
   "execution_count": 3,
   "metadata": {},
   "outputs": [
    {
     "name": "stdout",
     "output_type": "stream",
     "text": [
      "PASSED\n",
      "PASSED\n",
      "PASSED\n",
      "PASSED\n",
      "PASSED\n",
      "PASSED\n",
      "PASSED\n"
     ]
    }
   ],
   "source": [
    "%test assert len(persons) == 99,'\"persons\" should have 99 rows'\n",
    "%test assert len(purchases) == 99,'\"purchases\" should have 99 rows'\n",
    "%test assert len(persons.last_name.value_counts()) == 99,'\"persons.last_name\" should have 99 unique values'\n",
    "%test assert len(persons.customer_number.value_counts()) == 99,'\"persons.customer_number\" should have 99 unique values'\n",
    "%test assert len(purchases.customer_number.value_counts()) < 99,'\"purchases.customer_numbers\" should have less than 99 unique values'\n",
    "%test assert purchases.customer_number.isin(persons.customer_number).all(), '\"purchases.customer_number\" should be a subset of \"persons.customer_number\"'\n",
    "%test assert (purchases.columns == ['isbn10', 'credit_card_full', 'price', 'customer_number']).all(), '''\"purchase.columns\" should be ['isbn10', 'credit_card_full', 'price', 'customer_number']'''"
   ]
  },
  {
   "cell_type": "code",
   "execution_count": 4,
   "metadata": {},
   "outputs": [
    {
     "name": "stdout",
     "output_type": "stream",
     "text": [
      "No exceptions encountered while generating DataFrames 🐼🎉🎈🎊\n"
     ]
    }
   ],
   "source": [
    "%%fakedata_testing\n",
    "companies\n",
    "-------\n",
    "company*\n",
    "catch_phrase\n",
    "country\n",
    "date_time_this_century as established"
   ]
  },
  {
   "cell_type": "code",
   "execution_count": 5,
   "metadata": {},
   "outputs": [
    {
     "name": "stdout",
     "output_type": "stream",
     "text": [
      "PASSED\n",
      "PASSED\n",
      "PASSED\n"
     ]
    }
   ],
   "source": [
    "%test assert len(companies) == 99,'\"companies\" should have 99 rows'\n",
    "%test assert len(companies.company.value_counts()) == 99,'\"companies.company\" should have 99 unique values'\n",
    "%test assert (companies.columns == ['company', 'catch_phrase', 'country', 'established']).all(), '''\"purchase.columns\" should be ['company', 'catch_phrase', 'country', 'established']'''"
   ]
  },
  {
   "cell_type": "markdown",
   "metadata": {},
   "source": [
    "---\n",
    "\n",
    "I added `df_size` support\n",
    "\n",
    "```\n",
    "function_to_call  ::= <wordcharacters>\n",
    "parameters        ::= \"\" | \"(\" ( wordcharacters | number ) \")\"\n",
    "as_name           ::= \"\" | \"as\" <whitespace> <wordcharacters>\n",
    "column_name       ::= as_name | function_to_call\n",
    "reference         ::= \"\" |  \"[\" number \"]\"\n",
    "unique_mark       ::= \"\" | \"*\"\n",
    "column_definition ::= <function_to_call> <parameters> <whitespace> \\\n",
    "                      <as_name> <whitespace> <reference> <unique_mark>\n",
    "df_size           ::= \"\" |  \"[\" integer \"]\"\n",
    "df_sep            ::= \"--\" (\"-\"*)\n",
    "df_definition     ::= <wordcharacters> <df_size> <newline> <df_sep> <newline> \\\n",
    "                      (<column_definition>*) <newline> <newline>\n",
    "language_spec     ::= <def_definition>*\n",
    "```\n",
    "---\n",
    "Feel free to play around with these as well:\n",
    "```\n",
    "DEFAULT_DF_SIZE = 99     # default number of rows per DataFrame\n",
    "ORPHANED_UNIQUES = 0.2   # % of uniques references which won't be used in non-unique references\n",
    "REPEAT_WEIGHTS = 1000    # Weight of chance for repeated values.  1 would be equal weights\n",
    "```"
   ]
  },
  {
   "cell_type": "code",
   "execution_count": 6,
   "metadata": {},
   "outputs": [],
   "source": [
    "DEFAULT_DF_SIZE = 20     # default number of rows per DataFrame\n",
    "ORPHANED_UNIQUES = 0.1   # % of uniques references which won't be used in non-unique references\n",
    "REPEAT_WEIGHTS = 1000    # Weight of chance for repeated values.  1 would be equal weights"
   ]
  },
  {
   "cell_type": "code",
   "execution_count": 7,
   "metadata": {},
   "outputs": [
    {
     "name": "stdout",
     "output_type": "stream",
     "text": [
      "No exceptions encountered while generating DataFrames 🐼🎉🎈🎊\n"
     ]
    }
   ],
   "source": [
    "%%fakedata_testing\n",
    "apersons\n",
    "-------\n",
    "first_name\n",
    "last_name*\n",
    "phone_number\n",
    "random_number(5) as customer_number [1]*\n",
    "\n",
    "apurchases [500]\n",
    "---------\n",
    "isbn10\n",
    "credit_card_full\n",
    "random_number(3) as price\n",
    "random_number(5) as customer_number [1]"
   ]
  },
  {
   "cell_type": "code",
   "execution_count": 8,
   "metadata": {},
   "outputs": [
    {
     "name": "stdout",
     "output_type": "stream",
     "text": [
      "PASSED\n",
      "PASSED\n",
      "PASSED\n",
      "PASSED\n",
      "PASSED\n",
      "PASSED\n"
     ]
    }
   ],
   "source": [
    "%test assert len(apersons) == DEFAULT_DF_SIZE,'\"apersons\" should have {} rows'.format(DEFAULT_DF_SIZE)\n",
    "%test assert len(apurchases) == 500,'\"apurchases\" should have 500 rows'\n",
    "%test assert len(apersons.last_name.value_counts()) == DEFAULT_DF_SIZE,'\"apersons.last_name\" should have {} unique values'.format(DEFAULT_DF_SIZE)\n",
    "%test assert len(apersons.customer_number.value_counts()) == DEFAULT_DF_SIZE,'\"apersons.customer_number\" should have {} unique values'.format(DEFAULT_DF_SIZE)\n",
    "%test assert apurchases.customer_number.isin(apersons.customer_number).all(), '\"apurchases.customer_number\" should be a subset of \"persons.customer_number\"'\n",
    "%test assert (apurchases.columns == ['isbn10', 'credit_card_full', 'price', 'customer_number']).all(), '''\"apurchase.columns\" should be ['isbn10', 'credit_card_full', 'price', 'customer_number']'''"
   ]
  },
  {
   "cell_type": "code",
   "execution_count": 9,
   "metadata": {},
   "outputs": [
    {
     "data": {
      "text/plain": [
       "14193    59\n",
       "57949    54\n",
       "42039    49\n",
       "36791    45\n",
       "36280    42\n",
       "5817     42\n",
       "55098    41\n",
       "6243     39\n",
       "3680     32\n",
       "39814    21\n",
       "25397    21\n",
       "75302    12\n",
       "11200    12\n",
       "243      11\n",
       "89541     8\n",
       "33590     6\n",
       "94752     4\n",
       "65762     2\n",
       "Name: customer_number, dtype: int64"
      ]
     },
     "execution_count": 9,
     "metadata": {},
     "output_type": "execute_result"
    }
   ],
   "source": [
    "# distribution of customer_number for 'apurchases' DataFrame\n",
    "# tweak the 3 options above and rerun the cells to see how they affect the results\n",
    "apurchases.customer_number.value_counts()"
   ]
  },
  {
   "cell_type": "code",
   "execution_count": 10,
   "metadata": {},
   "outputs": [
    {
     "name": "stdout",
     "output_type": "stream",
     "text": [
      "🚫🚫🚫🚫🚫 An exception of type AssertionError occurred. Arguments:\n",
      "('Insufficient data (1000 available) from provider to generate 1001 \"last_name\".',)\n"
     ]
    }
   ],
   "source": [
    "%%fakedata_testing\n",
    "trying_too_many_uniques [1001]\n",
    "-------\n",
    "last_name*"
   ]
  },
  {
   "cell_type": "markdown",
   "metadata": {},
   "source": [
    "Also support `list` and `dict` for parameters\n",
    "------------"
   ]
  },
  {
   "cell_type": "code",
   "execution_count": 11,
   "metadata": {},
   "outputs": [],
   "source": [
    "import datetime\n",
    "# importing datetime otherwise can't use datetime constructors"
   ]
  },
  {
   "cell_type": "code",
   "execution_count": 12,
   "metadata": {},
   "outputs": [],
   "source": [
    "%%fakedata\n",
    "multi_param [20]\n",
    "-------\n",
    "color(['red', 'dark'])\n",
    "color([(300, 20), 'random', 'hsl']) as color2\n",
    "date(%Y-%m-%d)\n",
    "date(['%Y-%m-%d', datetime.datetime.strptime('12/11/1971 09:15:32', '%d/%m/%Y %H:%M:%S')]) as date2\n",
    "date_between({'start_date':'-5d', 'end_date':'-1d'})\n",
    "date_of_birth([None, 30, 50])\n",
    "date_this_decade([True, True])\n",
    "file_path([2, None, 'mp3'])\n",
    "paragraph([1, True])"
   ]
  },
  {
   "cell_type": "code",
   "execution_count": 13,
   "metadata": {},
   "outputs": [
    {
     "data": {
      "text/html": [
       "<div>\n",
       "<style scoped>\n",
       "    .dataframe tbody tr th:only-of-type {\n",
       "        vertical-align: middle;\n",
       "    }\n",
       "\n",
       "    .dataframe tbody tr th {\n",
       "        vertical-align: top;\n",
       "    }\n",
       "\n",
       "    .dataframe thead th {\n",
       "        text-align: right;\n",
       "    }\n",
       "</style>\n",
       "<table border=\"1\" class=\"dataframe\">\n",
       "  <thead>\n",
       "    <tr style=\"text-align: right;\">\n",
       "      <th></th>\n",
       "      <th>color</th>\n",
       "      <th>color2</th>\n",
       "      <th>date</th>\n",
       "      <th>date2</th>\n",
       "      <th>date_between</th>\n",
       "      <th>date_of_birth</th>\n",
       "      <th>date_this_decade</th>\n",
       "      <th>file_path</th>\n",
       "      <th>paragraph</th>\n",
       "    </tr>\n",
       "  </thead>\n",
       "  <tbody>\n",
       "    <tr>\n",
       "      <th>0</th>\n",
       "      <td>#ad1f0f</td>\n",
       "      <td>hsl(40, 35, 50)</td>\n",
       "      <td>2007-02-12</td>\n",
       "      <td>1971-02-07</td>\n",
       "      <td>2020-09-23</td>\n",
       "      <td>1972-07-11</td>\n",
       "      <td>2024-09-14</td>\n",
       "      <td>/family/people/know.mp3</td>\n",
       "      <td>Central road describe.</td>\n",
       "    </tr>\n",
       "    <tr>\n",
       "      <th>1</th>\n",
       "      <td>#aa2301</td>\n",
       "      <td>hsl(250, 86, 17)</td>\n",
       "      <td>1972-01-11</td>\n",
       "      <td>1970-02-04</td>\n",
       "      <td>2020-09-23</td>\n",
       "      <td>1989-12-03</td>\n",
       "      <td>2026-04-02</td>\n",
       "      <td>/loss/officer/truth.mp3</td>\n",
       "      <td>Social drug exist explain begin no.</td>\n",
       "    </tr>\n",
       "    <tr>\n",
       "      <th>2</th>\n",
       "      <td>#87060b</td>\n",
       "      <td>hsl(86, 78, 25)</td>\n",
       "      <td>1991-11-30</td>\n",
       "      <td>1971-09-19</td>\n",
       "      <td>2020-09-24</td>\n",
       "      <td>1984-09-27</td>\n",
       "      <td>2029-09-11</td>\n",
       "      <td>/opportunity/quite/lot.mp3</td>\n",
       "      <td>Matter still even have police down.</td>\n",
       "    </tr>\n",
       "    <tr>\n",
       "      <th>3</th>\n",
       "      <td>#b71c0b</td>\n",
       "      <td>hsl(65, 80, 5)</td>\n",
       "      <td>2008-01-30</td>\n",
       "      <td>1970-12-22</td>\n",
       "      <td>2020-09-25</td>\n",
       "      <td>1975-10-29</td>\n",
       "      <td>2021-05-19</td>\n",
       "      <td>/movie/factor/early.mp3</td>\n",
       "      <td>Rule sport economy sign table.</td>\n",
       "    </tr>\n",
       "    <tr>\n",
       "      <th>4</th>\n",
       "      <td>#a32600</td>\n",
       "      <td>hsl(80, 81, 7)</td>\n",
       "      <td>1997-11-13</td>\n",
       "      <td>1970-09-01</td>\n",
       "      <td>2020-09-24</td>\n",
       "      <td>1973-08-17</td>\n",
       "      <td>2024-06-02</td>\n",
       "      <td>/reality/final/he.mp3</td>\n",
       "      <td>Program story claim phone.</td>\n",
       "    </tr>\n",
       "  </tbody>\n",
       "</table>\n",
       "</div>"
      ],
      "text/plain": [
       "     color            color2        date       date2 date_between  \\\n",
       "0  #ad1f0f   hsl(40, 35, 50)  2007-02-12  1971-02-07   2020-09-23   \n",
       "1  #aa2301  hsl(250, 86, 17)  1972-01-11  1970-02-04   2020-09-23   \n",
       "2  #87060b   hsl(86, 78, 25)  1991-11-30  1971-09-19   2020-09-24   \n",
       "3  #b71c0b    hsl(65, 80, 5)  2008-01-30  1970-12-22   2020-09-25   \n",
       "4  #a32600    hsl(80, 81, 7)  1997-11-13  1970-09-01   2020-09-24   \n",
       "\n",
       "  date_of_birth date_this_decade                   file_path  \\\n",
       "0    1972-07-11       2024-09-14     /family/people/know.mp3   \n",
       "1    1989-12-03       2026-04-02     /loss/officer/truth.mp3   \n",
       "2    1984-09-27       2029-09-11  /opportunity/quite/lot.mp3   \n",
       "3    1975-10-29       2021-05-19     /movie/factor/early.mp3   \n",
       "4    1973-08-17       2024-06-02       /reality/final/he.mp3   \n",
       "\n",
       "                             paragraph  \n",
       "0               Central road describe.  \n",
       "1  Social drug exist explain begin no.  \n",
       "2  Matter still even have police down.  \n",
       "3       Rule sport economy sign table.  \n",
       "4           Program story claim phone.  "
      ]
     },
     "execution_count": 13,
     "metadata": {},
     "output_type": "execute_result"
    }
   ],
   "source": [
    "multi_param.head()\n",
    "# no time to create test cases :("
   ]
  },
  {
   "cell_type": "code",
   "execution_count": null,
   "metadata": {},
   "outputs": [],
   "source": []
  }
 ],
 "metadata": {
  "kernelspec": {
   "display_name": "Python 3",
   "language": "python",
   "name": "python3"
  },
  "language_info": {
   "codemirror_mode": {
    "name": "ipython",
    "version": 3
   },
   "file_extension": ".py",
   "mimetype": "text/x-python",
   "name": "python",
   "nbconvert_exporter": "python",
   "pygments_lexer": "ipython3",
   "version": "3.8.5"
  }
 },
 "nbformat": 4,
 "nbformat_minor": 4
}
